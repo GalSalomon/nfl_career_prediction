{
 "cells": [
  {
   "cell_type": "markdown",
   "id": "6f9d55ac",
   "metadata": {},
   "source": [
    "# <div align=\"center\">  Predicting College Football Players Careers Length <br>From Their Performance in College<br>(before the day of the draft) </div>"
   ]
  },
  {
   "cell_type": "code",
   "execution_count": 52,
   "id": "e231aba3",
   "metadata": {},
   "outputs": [],
   "source": [
    "import glob\n",
    "import pandas as pd\n",
    "import matplotlib.pyplot as plt\n",
    "from sklearn.ensemble import RandomForestRegressor\n",
    "from sklearn.model_selection import train_test_split, KFold, cross_validate"
   ]
  },
  {
   "cell_type": "markdown",
   "id": "fcfd1b4f",
   "metadata": {},
   "source": [
    "Getting all the picks of the NFL draft since 1970 till 2021"
   ]
  },
  {
   "cell_type": "code",
   "execution_count": 24,
   "id": "878d0b80",
   "metadata": {},
   "outputs": [],
   "source": [
    "# https://www.kaggle.com/cviaxmiwnptr/nfl-draft-19702021\n",
    "df = pd.read_csv('nfl_draft_1970-2021.csv')\n",
    "df['career_length'] = df['to'] - df['year'] + 1\n",
    "df = df[['year', 'to','player', 'age', 'career_length']]"
   ]
  },
  {
   "cell_type": "markdown",
   "id": "56b747eb",
   "metadata": {},
   "source": [
    "Let's try to do a random forest regressor to predict the career length"
   ]
  },
  {
   "cell_type": "markdown",
   "id": "bd2ea552",
   "metadata": {},
   "source": [
    "Now we'll pull the stats of all college players between 2005 and 2013"
   ]
  },
  {
   "cell_type": "code",
   "execution_count": 25,
   "id": "beea2dd6",
   "metadata": {},
   "outputs": [],
   "source": [
    "# https://www.kaggle.com/mhixon/college-football-statistics\n",
    "folder = '/college_stats/'\n",
    "sum = 0\n",
    "data = pd.DataFrame()\n",
    "for file in glob.glob(\"*/*/player-game-statistics.csv\"):\n",
    "    stats = pd.read_csv(file)\n",
    "    sum += len(stats)\n",
    "    data = pd.concat([data, stats], axis=0)"
   ]
  },
  {
   "cell_type": "code",
   "execution_count": 26,
   "id": "5c3e5051",
   "metadata": {},
   "outputs": [],
   "source": [
    "assert len(data) == sum"
   ]
  },
  {
   "cell_type": "code",
   "execution_count": 27,
   "id": "7926adee",
   "metadata": {
    "scrolled": true
   },
   "outputs": [
    {
     "name": "stdout",
     "output_type": "stream",
     "text": [
      "<class 'pandas.core.frame.DataFrame'>\n",
      "Int64Index: 503806 entries, 0 to 57326\n",
      "Data columns (total 58 columns):\n",
      " #   Column                 Non-Null Count   Dtype  \n",
      "---  ------                 --------------   -----  \n",
      " 0   Player Code            503806 non-null  int64  \n",
      " 1   Game Code              503806 non-null  int64  \n",
      " 2   Rush Att               503806 non-null  int64  \n",
      " 3   Rush Yard              503806 non-null  int64  \n",
      " 4   Rush TD                503806 non-null  int64  \n",
      " 5   Pass Att               503806 non-null  int64  \n",
      " 6   Pass Comp              503806 non-null  int64  \n",
      " 7   Pass Yard              503806 non-null  int64  \n",
      " 8   Pass TD                503806 non-null  int64  \n",
      " 9   Pass Int               503806 non-null  int64  \n",
      " 10  Pass Conv              503806 non-null  int64  \n",
      " 11  Rec                    503806 non-null  int64  \n",
      " 12  Rec Yards              503806 non-null  int64  \n",
      " 13  Rec TD                 503806 non-null  int64  \n",
      " 14  Kickoff Ret            503806 non-null  int64  \n",
      " 15  Kickoff Ret Yard       503806 non-null  int64  \n",
      " 16  Kickoff Ret TD         503806 non-null  int64  \n",
      " 17  Punt Ret               503806 non-null  int64  \n",
      " 18  Punt Ret Yard          503806 non-null  int64  \n",
      " 19  Punt Ret TD            503806 non-null  int64  \n",
      " 20  Fum Ret                503806 non-null  int64  \n",
      " 21  Fum Ret Yard           503806 non-null  int64  \n",
      " 22  Fum Ret TD             503806 non-null  int64  \n",
      " 23  Int Ret                503806 non-null  int64  \n",
      " 24  Int Ret Yard           503806 non-null  int64  \n",
      " 25  Int Ret TD             503806 non-null  int64  \n",
      " 26  Misc Ret               503806 non-null  int64  \n",
      " 27  Misc Ret Yard          503806 non-null  int64  \n",
      " 28  Misc Ret TD            503806 non-null  int64  \n",
      " 29  Field Goal Att         503806 non-null  int64  \n",
      " 30  Field Goal Made        503806 non-null  int64  \n",
      " 31  Off XP Kick Att        503806 non-null  int64  \n",
      " 32  Off XP Kick Made       503806 non-null  int64  \n",
      " 33  Off 2XP Att            503806 non-null  int64  \n",
      " 34  Off 2XP Made           503806 non-null  int64  \n",
      " 35  Def 2XP Att            503806 non-null  int64  \n",
      " 36  Def 2XP Made           503806 non-null  int64  \n",
      " 37  Safety                 503806 non-null  int64  \n",
      " 38  Points                 503806 non-null  int64  \n",
      " 39  Punt                   503806 non-null  int64  \n",
      " 40  Punt Yard              503806 non-null  int64  \n",
      " 41  Kickoff                503806 non-null  int64  \n",
      " 42  Kickoff Yard           503806 non-null  int64  \n",
      " 43  Kickoff Touchback      503806 non-null  int64  \n",
      " 44  Kickoff Out-Of-Bounds  503806 non-null  int64  \n",
      " 45  Kickoff Onside         503806 non-null  int64  \n",
      " 46  Fumble                 503806 non-null  int64  \n",
      " 47  Fumble Lost            503806 non-null  int64  \n",
      " 48  Tackle Solo            503806 non-null  int64  \n",
      " 49  Tackle Assist          503806 non-null  int64  \n",
      " 50  Tackle For Loss        503806 non-null  float64\n",
      " 51  Tackle For Loss Yard   503806 non-null  int64  \n",
      " 52  Sack                   503806 non-null  float64\n",
      " 53  Sack Yard              503806 non-null  int64  \n",
      " 54  QB Hurry               503806 non-null  int64  \n",
      " 55  Fumble Forced          503806 non-null  int64  \n",
      " 56  Pass Broken Up         503806 non-null  int64  \n",
      " 57  Kick/Punt Blocked      503806 non-null  int64  \n",
      "dtypes: float64(2), int64(56)\n",
      "memory usage: 226.8 MB\n"
     ]
    }
   ],
   "source": [
    "data.info()"
   ]
  },
  {
   "cell_type": "markdown",
   "id": "8c0eda2e",
   "metadata": {},
   "source": [
    "No nulls all numeric"
   ]
  },
  {
   "cell_type": "markdown",
   "id": "d728e54e",
   "metadata": {},
   "source": [
    "for col in data.columns:\n",
    "    print(col)\n",
    "    data[data[col]>0][col].hist()\n",
    "    plt.show()"
   ]
  },
  {
   "cell_type": "code",
   "execution_count": 29,
   "id": "bbb148ea",
   "metadata": {},
   "outputs": [],
   "source": [
    "gb = data.groupby('Player Code').agg(games=('Game Code', 'count'),\n",
    "                                               rush_att=('Rush Att', 'sum'),\n",
    "                                               rush_yard=('Rush Yard','sum'),\n",
    "                                               rush_td=('Rush TD','sum'),\n",
    "                                               pass_att=('Pass Att','sum'),\n",
    "                                               pass_comp=('Pass Comp','sum'),\n",
    "                                               pass_yard=('Pass Yard','sum'),\n",
    "                                               pass_td=('Pass TD','sum'),\n",
    "                                               pass_int=('Pass Int','sum'),\n",
    "                                               pass_conv=('Pass Conv','sum'),\n",
    "                                               rec=('Rec','sum'),\n",
    "                                               rec_yards=('Rec Yards','sum'),\n",
    "                                               rec_td=('Rec TD','sum'),\n",
    "                                               kickoff_ret=('Kickoff Ret','sum'),\n",
    "                                               kickoff_ret_yard=('Kickoff Ret Yard','sum'),\n",
    "                                               kickoff_ret_td=('Kickoff Ret TD','sum'),\n",
    "                                               punt_ret=('Punt Ret','sum'),\n",
    "                                               punt_ret_yard=('Punt Ret Yard','sum'),\n",
    "                                               punt_ret_td=('Punt Ret TD','sum'),\n",
    "                                               fum_ret=('Fum Ret','sum'),\n",
    "                                               fum_ret_yard=('Fum Ret Yard','sum'),\n",
    "                                               fum_ret_td=('Fum Ret TD','sum'),\n",
    "                                               int_ret=('Int Ret','sum'),\n",
    "                                               int_ret_yard=('Int Ret Yard','sum'),\n",
    "                                               int_ret_td=('Int Ret TD','sum'),\n",
    "                                               misc_ret=('Misc Ret','sum'),\n",
    "                                               misc_ret_yard=('Misc Ret Yard', 'sum'),\n",
    "                                               misc_ret_td=('Misc Ret TD', 'sum'),\n",
    "                                               field_goal_att=('Field Goal Att', 'sum'),\n",
    "                                               field_goal_made=('Field Goal Made', 'sum'),\n",
    "                                               off_xp_kick_att=('Off XP Kick Att', 'sum'),\n",
    "                                               off_xp_kick_made=('Off XP Kick Made', 'sum'),\n",
    "                                               off_2xp_att=('Off 2XP Att', 'sum'),\n",
    "                                               off_2xp_made=('Off 2XP Made', 'sum'),\n",
    "                                               def_2xp_att=('Def 2XP Att', 'sum'),\n",
    "                                               def_2xp_made=('Def 2XP Made', 'sum'),\n",
    "                                               safety=('Safety', 'sum'),\n",
    "                                               points=('Points', 'sum'),\n",
    "                                               punt=('Punt', 'sum'),\n",
    "                                               punt_yard=('Punt Yard', 'sum'),\n",
    "                                               kickoff=('Kickoff', 'sum'),\n",
    "                                               kickoff_yard=('Kickoff Yard', 'sum'),\n",
    "                                               kickoff_touchback=('Kickoff Touchback', 'sum'),\n",
    "                                               kickoff_out_of_bounds=('Kickoff Out-Of-Bounds', 'sum'),\n",
    "                                               kickoff_onside=('Kickoff Onside', 'sum'),\n",
    "                                               fumble=('Fumble', 'sum'),\n",
    "                                               fumble_lost=('Fumble Lost', 'sum'),\n",
    "                                               tackle_solo=('Tackle Solo', 'sum'),\n",
    "                                               tackle_assist=('Tackle Assist', 'sum'),\n",
    "                                               tackle_for_loss=('Tackle For Loss', 'sum'),\n",
    "                                               tackle_for_loss_yard=('Tackle For Loss Yard', 'sum'),\n",
    "                                               sack=('Sack', 'sum'),\n",
    "                                               sack_yard=('Sack Yard', 'sum'),\n",
    "                                               qb_hurry=('QB Hurry', 'sum'),\n",
    "                                               fumble_forced=('Fumble Forced', 'sum'),\n",
    "                                               pass_broken_up=('Pass Broken Up', 'sum'),\n",
    "                                               kick_or_punt_blocked=('Kick/Punt Blocked', 'sum'))\n",
    "\n",
    "# https://www.kaggle.com/mhixon/college-football-statistics\n",
    "folder = '/college_stats/'\n",
    "sum = 0\n",
    "players = pd.DataFrame()\n",
    "for file in glob.glob(\"*/*/player.csv\"):\n",
    "    players_temp = pd.read_csv(file)\n",
    "    sum += len(players_temp)\n",
    "    players = pd.concat([players, players_temp], axis=0)\n",
    "    \n",
    "players['name'] = players['First Name'] + ' ' + players['Last Name']\n",
    "\n",
    "gb = gb.merge(players[['Player Code', 'name']], left_index=True, right_on=['Player Code'])\n",
    "gb = gb.set_index('name')\n",
    "gb = gb.drop_duplicates()"
   ]
  },
  {
   "cell_type": "code",
   "execution_count": 30,
   "id": "0e6a32e0",
   "metadata": {},
   "outputs": [
    {
     "data": {
      "text/plain": [
       "['games',\n",
       " 'rush_att',\n",
       " 'rush_yard',\n",
       " 'rush_td',\n",
       " 'pass_att',\n",
       " 'pass_comp',\n",
       " 'pass_yard',\n",
       " 'pass_td',\n",
       " 'pass_int',\n",
       " 'pass_conv',\n",
       " 'rec',\n",
       " 'rec_yards',\n",
       " 'rec_td',\n",
       " 'kickoff_ret',\n",
       " 'kickoff_ret_yard',\n",
       " 'kickoff_ret_td',\n",
       " 'punt_ret',\n",
       " 'punt_ret_yard',\n",
       " 'punt_ret_td',\n",
       " 'fum_ret',\n",
       " 'fum_ret_yard',\n",
       " 'fum_ret_td',\n",
       " 'int_ret',\n",
       " 'int_ret_yard',\n",
       " 'int_ret_td',\n",
       " 'misc_ret',\n",
       " 'misc_ret_yard',\n",
       " 'misc_ret_td',\n",
       " 'field_goal_att',\n",
       " 'field_goal_made',\n",
       " 'off_xp_kick_att',\n",
       " 'off_xp_kick_made',\n",
       " 'off_2xp_att',\n",
       " 'off_2xp_made',\n",
       " 'def_2xp_att',\n",
       " 'def_2xp_made',\n",
       " 'safety',\n",
       " 'points',\n",
       " 'punt',\n",
       " 'punt_yard',\n",
       " 'kickoff',\n",
       " 'kickoff_yard',\n",
       " 'kickoff_touchback',\n",
       " 'kickoff_out_of_bounds',\n",
       " 'kickoff_onside',\n",
       " 'fumble',\n",
       " 'fumble_lost',\n",
       " 'tackle_solo',\n",
       " 'tackle_assist',\n",
       " 'tackle_for_loss',\n",
       " 'tackle_for_loss_yard',\n",
       " 'sack',\n",
       " 'sack_yard',\n",
       " 'qb_hurry',\n",
       " 'fumble_forced',\n",
       " 'pass_broken_up',\n",
       " 'kick_or_punt_blocked',\n",
       " 'Player Code']"
      ]
     },
     "execution_count": 30,
     "metadata": {},
     "output_type": "execute_result"
    }
   ],
   "source": [
    "list(gb.columns)"
   ]
  },
  {
   "cell_type": "markdown",
   "id": "f6b5875c",
   "metadata": {},
   "source": [
    "for col in gb.describe().columns:\n",
    "    print(col)\n",
    "    gb[gb[col]>0][col].hist()\n",
    "    plt.show()"
   ]
  },
  {
   "cell_type": "code",
   "execution_count": 31,
   "id": "7ee78805",
   "metadata": {},
   "outputs": [],
   "source": [
    "gb = gb.merge(df[['player', 'career_length']],left_index=True, right_on='player', how='inner').set_index('player')\n",
    "gb = gb.drop_duplicates()"
   ]
  },
  {
   "cell_type": "markdown",
   "id": "ec9fa6ed",
   "metadata": {},
   "source": [
    "for col in gb.columns:\n",
    "    print(col)\n",
    "    gb[gb[col]>0][col].hist()\n",
    "    plt.show()"
   ]
  },
  {
   "cell_type": "code",
   "execution_count": 32,
   "id": "3b4256b1",
   "metadata": {},
   "outputs": [
    {
     "name": "stdout",
     "output_type": "stream",
     "text": [
      "<class 'pandas.core.frame.DataFrame'>\n",
      "Index: 5244 entries, Mark Merrill to Denzel Ward\n",
      "Data columns (total 59 columns):\n",
      " #   Column                 Non-Null Count  Dtype  \n",
      "---  ------                 --------------  -----  \n",
      " 0   games                  5244 non-null   int64  \n",
      " 1   rush_att               5244 non-null   int64  \n",
      " 2   rush_yard              5244 non-null   int64  \n",
      " 3   rush_td                5244 non-null   int64  \n",
      " 4   pass_att               5244 non-null   int64  \n",
      " 5   pass_comp              5244 non-null   int64  \n",
      " 6   pass_yard              5244 non-null   int64  \n",
      " 7   pass_td                5244 non-null   int64  \n",
      " 8   pass_int               5244 non-null   int64  \n",
      " 9   pass_conv              5244 non-null   int64  \n",
      " 10  rec                    5244 non-null   int64  \n",
      " 11  rec_yards              5244 non-null   int64  \n",
      " 12  rec_td                 5244 non-null   int64  \n",
      " 13  kickoff_ret            5244 non-null   int64  \n",
      " 14  kickoff_ret_yard       5244 non-null   int64  \n",
      " 15  kickoff_ret_td         5244 non-null   int64  \n",
      " 16  punt_ret               5244 non-null   int64  \n",
      " 17  punt_ret_yard          5244 non-null   int64  \n",
      " 18  punt_ret_td            5244 non-null   int64  \n",
      " 19  fum_ret                5244 non-null   int64  \n",
      " 20  fum_ret_yard           5244 non-null   int64  \n",
      " 21  fum_ret_td             5244 non-null   int64  \n",
      " 22  int_ret                5244 non-null   int64  \n",
      " 23  int_ret_yard           5244 non-null   int64  \n",
      " 24  int_ret_td             5244 non-null   int64  \n",
      " 25  misc_ret               5244 non-null   int64  \n",
      " 26  misc_ret_yard          5244 non-null   int64  \n",
      " 27  misc_ret_td            5244 non-null   int64  \n",
      " 28  field_goal_att         5244 non-null   int64  \n",
      " 29  field_goal_made        5244 non-null   int64  \n",
      " 30  off_xp_kick_att        5244 non-null   int64  \n",
      " 31  off_xp_kick_made       5244 non-null   int64  \n",
      " 32  off_2xp_att            5244 non-null   int64  \n",
      " 33  off_2xp_made           5244 non-null   int64  \n",
      " 34  def_2xp_att            5244 non-null   int64  \n",
      " 35  def_2xp_made           5244 non-null   int64  \n",
      " 36  safety                 5244 non-null   int64  \n",
      " 37  points                 5244 non-null   int64  \n",
      " 38  punt                   5244 non-null   int64  \n",
      " 39  punt_yard              5244 non-null   int64  \n",
      " 40  kickoff                5244 non-null   int64  \n",
      " 41  kickoff_yard           5244 non-null   int64  \n",
      " 42  kickoff_touchback      5244 non-null   int64  \n",
      " 43  kickoff_out_of_bounds  5244 non-null   int64  \n",
      " 44  kickoff_onside         5244 non-null   int64  \n",
      " 45  fumble                 5244 non-null   int64  \n",
      " 46  fumble_lost            5244 non-null   int64  \n",
      " 47  tackle_solo            5244 non-null   int64  \n",
      " 48  tackle_assist          5244 non-null   int64  \n",
      " 49  tackle_for_loss        5244 non-null   float64\n",
      " 50  tackle_for_loss_yard   5244 non-null   int64  \n",
      " 51  sack                   5244 non-null   float64\n",
      " 52  sack_yard              5244 non-null   int64  \n",
      " 53  qb_hurry               5244 non-null   int64  \n",
      " 54  fumble_forced          5244 non-null   int64  \n",
      " 55  pass_broken_up         5244 non-null   int64  \n",
      " 56  kick_or_punt_blocked   5244 non-null   int64  \n",
      " 57  Player Code            5244 non-null   int64  \n",
      " 58  career_length          4544 non-null   float64\n",
      "dtypes: float64(3), int64(56)\n",
      "memory usage: 2.4+ MB\n"
     ]
    }
   ],
   "source": [
    "gb.info()"
   ]
  },
  {
   "cell_type": "code",
   "execution_count": 33,
   "id": "c053eb18",
   "metadata": {},
   "outputs": [
    {
     "data": {
      "text/html": [
       "<div>\n",
       "<style scoped>\n",
       "    .dataframe tbody tr th:only-of-type {\n",
       "        vertical-align: middle;\n",
       "    }\n",
       "\n",
       "    .dataframe tbody tr th {\n",
       "        vertical-align: top;\n",
       "    }\n",
       "\n",
       "    .dataframe thead th {\n",
       "        text-align: right;\n",
       "    }\n",
       "</style>\n",
       "<table border=\"1\" class=\"dataframe\">\n",
       "  <thead>\n",
       "    <tr style=\"text-align: right;\">\n",
       "      <th></th>\n",
       "      <th>games</th>\n",
       "      <th>rush_att</th>\n",
       "      <th>rush_yard</th>\n",
       "      <th>rush_td</th>\n",
       "      <th>pass_att</th>\n",
       "      <th>pass_comp</th>\n",
       "      <th>pass_yard</th>\n",
       "      <th>pass_td</th>\n",
       "      <th>pass_int</th>\n",
       "      <th>pass_conv</th>\n",
       "      <th>...</th>\n",
       "      <th>tackle_for_loss</th>\n",
       "      <th>tackle_for_loss_yard</th>\n",
       "      <th>sack</th>\n",
       "      <th>sack_yard</th>\n",
       "      <th>qb_hurry</th>\n",
       "      <th>fumble_forced</th>\n",
       "      <th>pass_broken_up</th>\n",
       "      <th>kick_or_punt_blocked</th>\n",
       "      <th>Player Code</th>\n",
       "      <th>career_length</th>\n",
       "    </tr>\n",
       "    <tr>\n",
       "      <th>player</th>\n",
       "      <th></th>\n",
       "      <th></th>\n",
       "      <th></th>\n",
       "      <th></th>\n",
       "      <th></th>\n",
       "      <th></th>\n",
       "      <th></th>\n",
       "      <th></th>\n",
       "      <th></th>\n",
       "      <th></th>\n",
       "      <th></th>\n",
       "      <th></th>\n",
       "      <th></th>\n",
       "      <th></th>\n",
       "      <th></th>\n",
       "      <th></th>\n",
       "      <th></th>\n",
       "      <th></th>\n",
       "      <th></th>\n",
       "      <th></th>\n",
       "      <th></th>\n",
       "    </tr>\n",
       "  </thead>\n",
       "  <tbody>\n",
       "    <tr>\n",
       "      <th>Tyler Reed</th>\n",
       "      <td>1</td>\n",
       "      <td>0</td>\n",
       "      <td>0</td>\n",
       "      <td>0</td>\n",
       "      <td>0</td>\n",
       "      <td>0</td>\n",
       "      <td>0</td>\n",
       "      <td>0</td>\n",
       "      <td>0</td>\n",
       "      <td>0</td>\n",
       "      <td>...</td>\n",
       "      <td>0.0</td>\n",
       "      <td>0</td>\n",
       "      <td>0.0</td>\n",
       "      <td>0</td>\n",
       "      <td>0</td>\n",
       "      <td>0</td>\n",
       "      <td>0</td>\n",
       "      <td>0</td>\n",
       "      <td>60</td>\n",
       "      <td>NaN</td>\n",
       "    </tr>\n",
       "    <tr>\n",
       "      <th>Tyler Reed</th>\n",
       "      <td>12</td>\n",
       "      <td>13</td>\n",
       "      <td>60</td>\n",
       "      <td>0</td>\n",
       "      <td>0</td>\n",
       "      <td>0</td>\n",
       "      <td>0</td>\n",
       "      <td>0</td>\n",
       "      <td>0</td>\n",
       "      <td>0</td>\n",
       "      <td>...</td>\n",
       "      <td>0.0</td>\n",
       "      <td>0</td>\n",
       "      <td>0.0</td>\n",
       "      <td>0</td>\n",
       "      <td>0</td>\n",
       "      <td>0</td>\n",
       "      <td>0</td>\n",
       "      <td>0</td>\n",
       "      <td>1008574</td>\n",
       "      <td>NaN</td>\n",
       "    </tr>\n",
       "    <tr>\n",
       "      <th>George Bussey</th>\n",
       "      <td>7</td>\n",
       "      <td>0</td>\n",
       "      <td>0</td>\n",
       "      <td>0</td>\n",
       "      <td>0</td>\n",
       "      <td>0</td>\n",
       "      <td>0</td>\n",
       "      <td>0</td>\n",
       "      <td>0</td>\n",
       "      <td>0</td>\n",
       "      <td>...</td>\n",
       "      <td>0.0</td>\n",
       "      <td>0</td>\n",
       "      <td>0.0</td>\n",
       "      <td>0</td>\n",
       "      <td>0</td>\n",
       "      <td>0</td>\n",
       "      <td>0</td>\n",
       "      <td>0</td>\n",
       "      <td>86</td>\n",
       "      <td>NaN</td>\n",
       "    </tr>\n",
       "    <tr>\n",
       "      <th>Chris Miller</th>\n",
       "      <td>12</td>\n",
       "      <td>0</td>\n",
       "      <td>0</td>\n",
       "      <td>0</td>\n",
       "      <td>0</td>\n",
       "      <td>0</td>\n",
       "      <td>0</td>\n",
       "      <td>0</td>\n",
       "      <td>0</td>\n",
       "      <td>0</td>\n",
       "      <td>...</td>\n",
       "      <td>0.0</td>\n",
       "      <td>0</td>\n",
       "      <td>0.0</td>\n",
       "      <td>0</td>\n",
       "      <td>0</td>\n",
       "      <td>0</td>\n",
       "      <td>0</td>\n",
       "      <td>0</td>\n",
       "      <td>30988</td>\n",
       "      <td>NaN</td>\n",
       "    </tr>\n",
       "    <tr>\n",
       "      <th>Chris Miller</th>\n",
       "      <td>11</td>\n",
       "      <td>0</td>\n",
       "      <td>0</td>\n",
       "      <td>0</td>\n",
       "      <td>0</td>\n",
       "      <td>0</td>\n",
       "      <td>0</td>\n",
       "      <td>0</td>\n",
       "      <td>0</td>\n",
       "      <td>0</td>\n",
       "      <td>...</td>\n",
       "      <td>2.5</td>\n",
       "      <td>9</td>\n",
       "      <td>2.0</td>\n",
       "      <td>8</td>\n",
       "      <td>0</td>\n",
       "      <td>1</td>\n",
       "      <td>0</td>\n",
       "      <td>0</td>\n",
       "      <td>37017</td>\n",
       "      <td>NaN</td>\n",
       "    </tr>\n",
       "    <tr>\n",
       "      <th>...</th>\n",
       "      <td>...</td>\n",
       "      <td>...</td>\n",
       "      <td>...</td>\n",
       "      <td>...</td>\n",
       "      <td>...</td>\n",
       "      <td>...</td>\n",
       "      <td>...</td>\n",
       "      <td>...</td>\n",
       "      <td>...</td>\n",
       "      <td>...</td>\n",
       "      <td>...</td>\n",
       "      <td>...</td>\n",
       "      <td>...</td>\n",
       "      <td>...</td>\n",
       "      <td>...</td>\n",
       "      <td>...</td>\n",
       "      <td>...</td>\n",
       "      <td>...</td>\n",
       "      <td>...</td>\n",
       "      <td>...</td>\n",
       "      <td>...</td>\n",
       "    </tr>\n",
       "    <tr>\n",
       "      <th>Aaron Jackson</th>\n",
       "      <td>4</td>\n",
       "      <td>0</td>\n",
       "      <td>0</td>\n",
       "      <td>0</td>\n",
       "      <td>0</td>\n",
       "      <td>0</td>\n",
       "      <td>0</td>\n",
       "      <td>0</td>\n",
       "      <td>0</td>\n",
       "      <td>0</td>\n",
       "      <td>...</td>\n",
       "      <td>0.0</td>\n",
       "      <td>0</td>\n",
       "      <td>0.0</td>\n",
       "      <td>0</td>\n",
       "      <td>0</td>\n",
       "      <td>0</td>\n",
       "      <td>0</td>\n",
       "      <td>0</td>\n",
       "      <td>1058395</td>\n",
       "      <td>NaN</td>\n",
       "    </tr>\n",
       "    <tr>\n",
       "      <th>Keion Adams</th>\n",
       "      <td>10</td>\n",
       "      <td>0</td>\n",
       "      <td>0</td>\n",
       "      <td>0</td>\n",
       "      <td>0</td>\n",
       "      <td>0</td>\n",
       "      <td>0</td>\n",
       "      <td>0</td>\n",
       "      <td>0</td>\n",
       "      <td>0</td>\n",
       "      <td>...</td>\n",
       "      <td>2.5</td>\n",
       "      <td>12</td>\n",
       "      <td>1.0</td>\n",
       "      <td>8</td>\n",
       "      <td>1</td>\n",
       "      <td>1</td>\n",
       "      <td>1</td>\n",
       "      <td>0</td>\n",
       "      <td>1058400</td>\n",
       "      <td>NaN</td>\n",
       "    </tr>\n",
       "    <tr>\n",
       "      <th>Jay Anderson</th>\n",
       "      <td>1</td>\n",
       "      <td>0</td>\n",
       "      <td>0</td>\n",
       "      <td>0</td>\n",
       "      <td>0</td>\n",
       "      <td>0</td>\n",
       "      <td>0</td>\n",
       "      <td>0</td>\n",
       "      <td>0</td>\n",
       "      <td>0</td>\n",
       "      <td>...</td>\n",
       "      <td>0.0</td>\n",
       "      <td>0</td>\n",
       "      <td>0.0</td>\n",
       "      <td>0</td>\n",
       "      <td>0</td>\n",
       "      <td>0</td>\n",
       "      <td>0</td>\n",
       "      <td>0</td>\n",
       "      <td>1060062</td>\n",
       "      <td>NaN</td>\n",
       "    </tr>\n",
       "    <tr>\n",
       "      <th>Eric Patton</th>\n",
       "      <td>1</td>\n",
       "      <td>0</td>\n",
       "      <td>0</td>\n",
       "      <td>0</td>\n",
       "      <td>0</td>\n",
       "      <td>0</td>\n",
       "      <td>0</td>\n",
       "      <td>0</td>\n",
       "      <td>0</td>\n",
       "      <td>0</td>\n",
       "      <td>...</td>\n",
       "      <td>0.0</td>\n",
       "      <td>0</td>\n",
       "      <td>0.0</td>\n",
       "      <td>0</td>\n",
       "      <td>0</td>\n",
       "      <td>0</td>\n",
       "      <td>0</td>\n",
       "      <td>0</td>\n",
       "      <td>1060768</td>\n",
       "      <td>NaN</td>\n",
       "    </tr>\n",
       "    <tr>\n",
       "      <th>Curtis Alexander</th>\n",
       "      <td>1</td>\n",
       "      <td>0</td>\n",
       "      <td>0</td>\n",
       "      <td>0</td>\n",
       "      <td>0</td>\n",
       "      <td>0</td>\n",
       "      <td>0</td>\n",
       "      <td>0</td>\n",
       "      <td>0</td>\n",
       "      <td>0</td>\n",
       "      <td>...</td>\n",
       "      <td>0.0</td>\n",
       "      <td>0</td>\n",
       "      <td>0.0</td>\n",
       "      <td>0</td>\n",
       "      <td>0</td>\n",
       "      <td>0</td>\n",
       "      <td>0</td>\n",
       "      <td>0</td>\n",
       "      <td>1061083</td>\n",
       "      <td>NaN</td>\n",
       "    </tr>\n",
       "  </tbody>\n",
       "</table>\n",
       "<p>700 rows × 59 columns</p>\n",
       "</div>"
      ],
      "text/plain": [
       "                  games  rush_att  rush_yard  rush_td  pass_att  pass_comp  \\\n",
       "player                                                                       \n",
       "Tyler Reed            1         0          0        0         0          0   \n",
       "Tyler Reed           12        13         60        0         0          0   \n",
       "George Bussey         7         0          0        0         0          0   \n",
       "Chris Miller         12         0          0        0         0          0   \n",
       "Chris Miller         11         0          0        0         0          0   \n",
       "...                 ...       ...        ...      ...       ...        ...   \n",
       "Aaron Jackson         4         0          0        0         0          0   \n",
       "Keion Adams          10         0          0        0         0          0   \n",
       "Jay Anderson          1         0          0        0         0          0   \n",
       "Eric Patton           1         0          0        0         0          0   \n",
       "Curtis Alexander      1         0          0        0         0          0   \n",
       "\n",
       "                  pass_yard  pass_td  pass_int  pass_conv  ...  \\\n",
       "player                                                     ...   \n",
       "Tyler Reed                0        0         0          0  ...   \n",
       "Tyler Reed                0        0         0          0  ...   \n",
       "George Bussey             0        0         0          0  ...   \n",
       "Chris Miller              0        0         0          0  ...   \n",
       "Chris Miller              0        0         0          0  ...   \n",
       "...                     ...      ...       ...        ...  ...   \n",
       "Aaron Jackson             0        0         0          0  ...   \n",
       "Keion Adams               0        0         0          0  ...   \n",
       "Jay Anderson              0        0         0          0  ...   \n",
       "Eric Patton               0        0         0          0  ...   \n",
       "Curtis Alexander          0        0         0          0  ...   \n",
       "\n",
       "                  tackle_for_loss  tackle_for_loss_yard  sack  sack_yard  \\\n",
       "player                                                                     \n",
       "Tyler Reed                    0.0                     0   0.0          0   \n",
       "Tyler Reed                    0.0                     0   0.0          0   \n",
       "George Bussey                 0.0                     0   0.0          0   \n",
       "Chris Miller                  0.0                     0   0.0          0   \n",
       "Chris Miller                  2.5                     9   2.0          8   \n",
       "...                           ...                   ...   ...        ...   \n",
       "Aaron Jackson                 0.0                     0   0.0          0   \n",
       "Keion Adams                   2.5                    12   1.0          8   \n",
       "Jay Anderson                  0.0                     0   0.0          0   \n",
       "Eric Patton                   0.0                     0   0.0          0   \n",
       "Curtis Alexander              0.0                     0   0.0          0   \n",
       "\n",
       "                  qb_hurry  fumble_forced  pass_broken_up  \\\n",
       "player                                                      \n",
       "Tyler Reed               0              0               0   \n",
       "Tyler Reed               0              0               0   \n",
       "George Bussey            0              0               0   \n",
       "Chris Miller             0              0               0   \n",
       "Chris Miller             0              1               0   \n",
       "...                    ...            ...             ...   \n",
       "Aaron Jackson            0              0               0   \n",
       "Keion Adams              1              1               1   \n",
       "Jay Anderson             0              0               0   \n",
       "Eric Patton              0              0               0   \n",
       "Curtis Alexander         0              0               0   \n",
       "\n",
       "                  kick_or_punt_blocked  Player Code  career_length  \n",
       "player                                                              \n",
       "Tyler Reed                           0           60            NaN  \n",
       "Tyler Reed                           0      1008574            NaN  \n",
       "George Bussey                        0           86            NaN  \n",
       "Chris Miller                         0        30988            NaN  \n",
       "Chris Miller                         0        37017            NaN  \n",
       "...                                ...          ...            ...  \n",
       "Aaron Jackson                        0      1058395            NaN  \n",
       "Keion Adams                          0      1058400            NaN  \n",
       "Jay Anderson                         0      1060062            NaN  \n",
       "Eric Patton                          0      1060768            NaN  \n",
       "Curtis Alexander                     0      1061083            NaN  \n",
       "\n",
       "[700 rows x 59 columns]"
      ]
     },
     "execution_count": 33,
     "metadata": {},
     "output_type": "execute_result"
    }
   ],
   "source": [
    "gb[gb['career_length'].isna()]"
   ]
  },
  {
   "cell_type": "markdown",
   "id": "83bb1773",
   "metadata": {},
   "source": [
    "# Bar Please fix the duplicates!!!!"
   ]
  },
  {
   "cell_type": "code",
   "execution_count": 34,
   "id": "476e7631",
   "metadata": {},
   "outputs": [],
   "source": [
    "gb = gb.dropna()"
   ]
  },
  {
   "cell_type": "code",
   "execution_count": 35,
   "id": "649922e1",
   "metadata": {},
   "outputs": [
    {
     "data": {
      "text/plain": [
       "['games',\n",
       " 'rush_att',\n",
       " 'rush_yard',\n",
       " 'rush_td',\n",
       " 'pass_att',\n",
       " 'pass_comp',\n",
       " 'pass_yard',\n",
       " 'pass_td',\n",
       " 'pass_int',\n",
       " 'pass_conv',\n",
       " 'rec',\n",
       " 'rec_yards',\n",
       " 'rec_td',\n",
       " 'kickoff_ret',\n",
       " 'kickoff_ret_yard',\n",
       " 'kickoff_ret_td',\n",
       " 'punt_ret',\n",
       " 'punt_ret_yard',\n",
       " 'punt_ret_td',\n",
       " 'fum_ret',\n",
       " 'fum_ret_yard',\n",
       " 'fum_ret_td',\n",
       " 'int_ret',\n",
       " 'int_ret_yard',\n",
       " 'int_ret_td',\n",
       " 'misc_ret',\n",
       " 'misc_ret_yard',\n",
       " 'misc_ret_td',\n",
       " 'field_goal_att',\n",
       " 'field_goal_made',\n",
       " 'off_xp_kick_att',\n",
       " 'off_xp_kick_made',\n",
       " 'off_2xp_att',\n",
       " 'off_2xp_made',\n",
       " 'def_2xp_att',\n",
       " 'def_2xp_made',\n",
       " 'safety',\n",
       " 'points',\n",
       " 'punt',\n",
       " 'punt_yard',\n",
       " 'kickoff',\n",
       " 'kickoff_yard',\n",
       " 'kickoff_touchback',\n",
       " 'kickoff_out_of_bounds',\n",
       " 'kickoff_onside',\n",
       " 'fumble',\n",
       " 'fumble_lost',\n",
       " 'tackle_solo',\n",
       " 'tackle_assist',\n",
       " 'tackle_for_loss',\n",
       " 'tackle_for_loss_yard',\n",
       " 'sack',\n",
       " 'sack_yard',\n",
       " 'qb_hurry',\n",
       " 'fumble_forced',\n",
       " 'pass_broken_up',\n",
       " 'kick_or_punt_blocked',\n",
       " 'Player Code',\n",
       " 'career_length']"
      ]
     },
     "execution_count": 35,
     "metadata": {},
     "output_type": "execute_result"
    }
   ],
   "source": [
    "list(gb.columns)"
   ]
  },
  {
   "cell_type": "code",
   "execution_count": 46,
   "id": "079a2e2b",
   "metadata": {},
   "outputs": [
    {
     "data": {
      "text/plain": [
       "((3180, 58), (1364, 58), (3180,), (1364,))"
      ]
     },
     "execution_count": 46,
     "metadata": {},
     "output_type": "execute_result"
    }
   ],
   "source": [
    "target = 'career_length'\n",
    "X = gb[gb.columns.drop(target)]\n",
    "y = gb[target]\n",
    "\n",
    "X_train, X_test, y_train, y_test = train_test_split(X, y, test_size=0.30, random_state=13)\n",
    "X_train.shape, X_test.shape, y_train.shape, y_test.shape"
   ]
  },
  {
   "cell_type": "code",
   "execution_count": 55,
   "id": "c6490e4c",
   "metadata": {},
   "outputs": [],
   "source": [
    "kf = KFold(n_splits=5, shuffle=True, random_state=42)\n",
    "rf = RandomForestRegressor(criterion='mse')\n",
    "scores = cross_validate(rf, X_train, y_train, cv=kf, scoring='r2')"
   ]
  },
  {
   "cell_type": "code",
   "execution_count": 56,
   "id": "4cf57c88",
   "metadata": {},
   "outputs": [
    {
     "data": {
      "text/plain": [
       "{'fit_time': array([1.47034669, 1.42353106, 1.41672397, 1.43870115, 1.38976216]),\n",
       " 'score_time': array([0.01131105, 0.01145482, 0.01147795, 0.01163578, 0.01135993]),\n",
       " 'test_score': array([-0.16843052, -0.11457459, -0.09757556, -0.10417954, -0.19830319])}"
      ]
     },
     "execution_count": 56,
     "metadata": {},
     "output_type": "execute_result"
    }
   ],
   "source": [
    "scores"
   ]
  },
  {
   "cell_type": "code",
   "execution_count": 57,
   "id": "843d91ec",
   "metadata": {},
   "outputs": [
    {
     "data": {
      "text/plain": [
       "RandomForestRegressor()"
      ]
     },
     "execution_count": 57,
     "metadata": {},
     "output_type": "execute_result"
    }
   ],
   "source": [
    "rf.fit(X_train, y_train)"
   ]
  },
  {
   "cell_type": "code",
   "execution_count": 58,
   "id": "853230f3",
   "metadata": {},
   "outputs": [
    {
     "data": {
      "text/plain": [
       "0.7751098039878835"
      ]
     },
     "execution_count": 58,
     "metadata": {},
     "output_type": "execute_result"
    }
   ],
   "source": [
    "rf.score(X_train, y_train)"
   ]
  },
  {
   "cell_type": "code",
   "execution_count": 59,
   "id": "74e3922e",
   "metadata": {},
   "outputs": [
    {
     "data": {
      "text/plain": [
       "-0.13016006203767394"
      ]
     },
     "execution_count": 59,
     "metadata": {},
     "output_type": "execute_result"
    }
   ],
   "source": [
    "rf.score(X_test, y_test)"
   ]
  },
  {
   "cell_type": "code",
   "execution_count": 44,
   "id": "46dd9d27",
   "metadata": {},
   "outputs": [
    {
     "data": {
      "text/plain": [
       "<AxesSubplot:>"
      ]
     },
     "execution_count": 44,
     "metadata": {},
     "output_type": "execute_result"
    },
    {
     "data": {
      "image/png": "[encoded data removed]",
      "text/plain": [
       "<Figure size 432x288 with 1 Axes>"
      ]
     },
     "metadata": {
      "needs_background": "light"
     },
     "output_type": "display_data"
    }
   ],
   "source": [
    "y_train.hist()"
   ]
  },
  {
   "cell_type": "code",
   "execution_count": 45,
   "id": "c0defaec",
   "metadata": {},
   "outputs": [
    {
     "data": {
      "text/plain": [
       "<AxesSubplot:>"
      ]
     },
     "execution_count": 45,
     "metadata": {},
     "output_type": "execute_result"
    },
    {
     "data": {
      "image/png": "[encoded data removed]",
      "text/plain": [
       "<Figure size 432x288 with 1 Axes>"
      ]
     },
     "metadata": {
      "needs_background": "light"
     },
     "output_type": "display_data"
    }
   ],
   "source": [
    "y_test.hist()"
   ]
  },
  {
   "cell_type": "code",
   "execution_count": null,
   "id": "42e926f9",
   "metadata": {},
   "outputs": [],
   "source": []
  }
 ],
 "metadata": {
  "kernelspec": {
   "display_name": "Python 3 (ipykernel)",
   "language": "python",
   "name": "python3"
  },
  "language_info": {
   "codemirror_mode": {
    "name": "ipython",
    "version": 3
   },
   "file_extension": ".py",
   "mimetype": "text/x-python",
   "name": "python",
   "nbconvert_exporter": "python",
   "pygments_lexer": "ipython3",
   "version": "3.9.6"
  }
 },
 "nbformat": 4,
 "nbformat_minor": 5
}
